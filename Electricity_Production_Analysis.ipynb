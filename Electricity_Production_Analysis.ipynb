{
 "cells": [
  {
   "cell_type": "code",
   "execution_count": 2,
   "id": "2cf20d36",
   "metadata": {},
   "outputs": [],
   "source": [
    "# Importing necessary libraries\n",
    "import numpy as np\n",
    "import matplotlib.pyplot as plt\n",
    "import pandas as pd\n",
    "import seaborn as sns"
   ]
  },
  {
   "cell_type": "markdown",
   "id": "32bbc2aa",
   "metadata": {},
   "source": [
    "Intro to project: Power production in Norway vs the World"
   ]
  },
  {
   "cell_type": "code",
   "execution_count": 4,
   "id": "c080c112",
   "metadata": {},
   "outputs": [
    {
     "name": "stdout",
     "output_type": "stream",
     "text": [
      "        Entity Code  Year  Electricity from coal (TWh)  \\\n",
      "0  Afghanistan  AFG  2000                          0.0   \n",
      "1  Afghanistan  AFG  2001                          0.0   \n",
      "2  Afghanistan  AFG  2002                          0.0   \n",
      "3  Afghanistan  AFG  2003                          0.0   \n",
      "4  Afghanistan  AFG  2004                          0.0   \n",
      "\n",
      "   Electricity from gas (TWh)  Electricity from hydro (TWh)  \\\n",
      "0                       0.155                         0.312   \n",
      "1                       0.094                         0.498   \n",
      "2                       0.132                         0.555   \n",
      "3                       0.309                         0.630   \n",
      "4                       0.329                         0.565   \n",
      "\n",
      "   Electricity from other renewables (TWh)  Electricity from solar (TWh)  \\\n",
      "0                                      0.0                           0.0   \n",
      "1                                      0.0                           0.0   \n",
      "2                                      0.0                           0.0   \n",
      "3                                      0.0                           0.0   \n",
      "4                                      0.0                           0.0   \n",
      "\n",
      "   Electricity from oil (TWh)  Electricity from wind (TWh)  \\\n",
      "0                         0.0                          0.0   \n",
      "1                         0.0                          0.0   \n",
      "2                         0.0                          0.0   \n",
      "3                         0.0                          0.0   \n",
      "4                         0.0                          0.0   \n",
      "\n",
      "   Electricity from nuclear (TWh)  \n",
      "0                             0.0  \n",
      "1                             0.0  \n",
      "2                             0.0  \n",
      "3                             0.0  \n",
      "4                             0.0  \n"
     ]
    }
   ],
   "source": [
    "# Importing the dataset\n",
    "production_data = pd.read_csv('electricity_production_by_source.csv')\n",
    "# Displaying the first few rows of the dataset\n",
    "print(production_data.head())"
   ]
  }
 ],
 "metadata": {
  "kernelspec": {
   "display_name": "base",
   "language": "python",
   "name": "python3"
  },
  "language_info": {
   "codemirror_mode": {
    "name": "ipython",
    "version": 3
   },
   "file_extension": ".py",
   "mimetype": "text/x-python",
   "name": "python",
   "nbconvert_exporter": "python",
   "pygments_lexer": "ipython3",
   "version": "3.12.7"
  }
 },
 "nbformat": 4,
 "nbformat_minor": 5
}
